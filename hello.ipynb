{
 "cells": [
  {
   "cell_type": "code",
   "execution_count": 1,
   "metadata": {},
   "outputs": [
    {
     "name": "stdout",
     "output_type": "stream",
     "text": [
      "Collecting ibm-watsonNote: you may need to restart the kernel to use updated packages.\n",
      "\n",
      "  Downloading ibm-watson-8.0.0.tar.gz (398 kB)\n",
      "     ---------------------------------------- 0.0/398.3 kB ? eta -:--:--\n",
      "     - -------------------------------------- 10.2/398.3 kB ? eta -:--:--\n",
      "     -- ---------------------------------- 30.7/398.3 kB 660.6 kB/s eta 0:00:01\n",
      "     ----- ------------------------------- 61.4/398.3 kB 825.8 kB/s eta 0:00:01\n",
      "     ------------------------------- ------ 327.7/398.3 kB 2.5 MB/s eta 0:00:01\n",
      "     -------------------------------------- 398.3/398.3 kB 2.5 MB/s eta 0:00:00\n",
      "  Installing build dependencies: started\n",
      "  Installing build dependencies: finished with status 'done'\n",
      "  Getting requirements to build wheel: started\n",
      "  Getting requirements to build wheel: finished with status 'done'\n",
      "  Preparing metadata (pyproject.toml): started\n",
      "  Preparing metadata (pyproject.toml): finished with status 'done'\n",
      "Collecting requests<3.0,>=2.0 (from ibm-watson)\n",
      "  Downloading requests-2.31.0-py3-none-any.whl.metadata (4.6 kB)\n",
      "Requirement already satisfied: python-dateutil>=2.5.3 in c:\\users\\user\\appdata\\roaming\\python\\python312\\site-packages (from ibm-watson) (2.9.0.post0)\n",
      "Collecting websocket-client>=1.1.0 (from ibm-watson)\n",
      "  Downloading websocket_client-1.7.0-py3-none-any.whl.metadata (7.9 kB)\n",
      "Collecting ibm-cloud-sdk-core==3.*,>=3.3.6 (from ibm-watson)\n",
      "  Downloading ibm-cloud-sdk-core-3.19.2.tar.gz (61 kB)\n",
      "     ---------------------------------------- 0.0/62.0 kB ? eta -:--:--\n",
      "     ---------------------------------------- 62.0/62.0 kB 3.2 MB/s eta 0:00:00\n",
      "  Installing build dependencies: started\n",
      "  Installing build dependencies: finished with status 'done'\n",
      "  Getting requirements to build wheel: started\n",
      "  Getting requirements to build wheel: finished with status 'done'\n",
      "  Installing backend dependencies: started\n",
      "  Installing backend dependencies: finished with status 'done'\n",
      "  Preparing metadata (pyproject.toml): started\n",
      "  Preparing metadata (pyproject.toml): finished with status 'done'\n",
      "Collecting urllib3<3.0.0,>=2.1.0 (from ibm-cloud-sdk-core==3.*,>=3.3.6->ibm-watson)\n",
      "  Downloading urllib3-2.2.1-py3-none-any.whl.metadata (6.4 kB)\n",
      "Collecting PyJWT<3.0.0,>=2.8.0 (from ibm-cloud-sdk-core==3.*,>=3.3.6->ibm-watson)\n",
      "  Downloading PyJWT-2.8.0-py3-none-any.whl.metadata (4.2 kB)\n",
      "Requirement already satisfied: six>=1.5 in c:\\users\\user\\appdata\\roaming\\python\\python312\\site-packages (from python-dateutil>=2.5.3->ibm-watson) (1.16.0)\n",
      "Collecting charset-normalizer<4,>=2 (from requests<3.0,>=2.0->ibm-watson)\n",
      "  Downloading charset_normalizer-3.3.2-cp312-cp312-win_amd64.whl.metadata (34 kB)\n",
      "Collecting idna<4,>=2.5 (from requests<3.0,>=2.0->ibm-watson)\n",
      "  Downloading idna-3.6-py3-none-any.whl.metadata (9.9 kB)\n",
      "Collecting certifi>=2017.4.17 (from requests<3.0,>=2.0->ibm-watson)\n",
      "  Downloading certifi-2024.2.2-py3-none-any.whl.metadata (2.2 kB)\n",
      "Downloading requests-2.31.0-py3-none-any.whl (62 kB)\n",
      "   ---------------------------------------- 0.0/62.6 kB ? eta -:--:--\n",
      "   ---------------------------------------- 62.6/62.6 kB 1.6 MB/s eta 0:00:00\n",
      "Downloading websocket_client-1.7.0-py3-none-any.whl (58 kB)\n",
      "   ---------------------------------------- 0.0/58.5 kB ? eta -:--:--\n",
      "   ---------------------------------------- 58.5/58.5 kB ? eta 0:00:00\n",
      "Downloading certifi-2024.2.2-py3-none-any.whl (163 kB)\n",
      "   ---------------------------------------- 0.0/163.8 kB ? eta -:--:--\n",
      "   ---------------------------------------- 163.8/163.8 kB 5.0 MB/s eta 0:00:00\n",
      "Downloading charset_normalizer-3.3.2-cp312-cp312-win_amd64.whl (100 kB)\n",
      "   ---------------------------------------- 0.0/100.4 kB ? eta -:--:--\n",
      "   ---------------------------------------- 100.4/100.4 kB 2.9 MB/s eta 0:00:00\n",
      "Downloading idna-3.6-py3-none-any.whl (61 kB)\n",
      "   ---------------------------------------- 0.0/61.6 kB ? eta -:--:--\n",
      "   ---------------------------------------- 61.6/61.6 kB 1.1 MB/s eta 0:00:00\n",
      "Downloading PyJWT-2.8.0-py3-none-any.whl (22 kB)\n",
      "Downloading urllib3-2.2.1-py3-none-any.whl (121 kB)\n",
      "   ---------------------------------------- 0.0/121.1 kB ? eta -:--:--\n",
      "   ---------------------------------------- 121.1/121.1 kB 7.4 MB/s eta 0:00:00\n",
      "Building wheels for collected packages: ibm-watson, ibm-cloud-sdk-core\n",
      "  Building wheel for ibm-watson (pyproject.toml): started\n",
      "  Building wheel for ibm-watson (pyproject.toml): finished with status 'done'\n",
      "  Created wheel for ibm-watson: filename=ibm_watson-8.0.0-py3-none-any.whl size=401088 sha256=d6f6d5591201411703236ddac0386715344d6a626118eb843950e3e38164f905\n",
      "  Stored in directory: c:\\users\\user\\appdata\\local\\pip\\cache\\wheels\\be\\30\\8d\\01846b384816cd7db3b87cdd8a0e816c35beb940910cb8313b\n",
      "  Building wheel for ibm-cloud-sdk-core (pyproject.toml): started\n",
      "  Building wheel for ibm-cloud-sdk-core (pyproject.toml): finished with status 'done'\n",
      "  Created wheel for ibm-cloud-sdk-core: filename=ibm_cloud_sdk_core-3.19.2-py3-none-any.whl size=98848 sha256=8b1fe3c893f63d976a09e923357cc2e61872b36d271b50a2c5e9c83fd6ec5201\n",
      "  Stored in directory: c:\\users\\user\\appdata\\local\\pip\\cache\\wheels\\1e\\2d\\24\\34534e39d3e2cec6f55e41987649c0921043510119822fabff\n",
      "Successfully built ibm-watson ibm-cloud-sdk-core\n",
      "Installing collected packages: websocket-client, urllib3, PyJWT, idna, charset-normalizer, certifi, requests, ibm-cloud-sdk-core, ibm-watson\n",
      "Successfully installed PyJWT-2.8.0 certifi-2024.2.2 charset-normalizer-3.3.2 ibm-cloud-sdk-core-3.19.2 ibm-watson-8.0.0 idna-3.6 requests-2.31.0 urllib3-2.2.1 websocket-client-1.7.0\n"
     ]
    }
   ],
   "source": [
    "%pip install ibm-watson"
   ]
  },
  {
   "cell_type": "code",
   "execution_count": 4,
   "metadata": {},
   "outputs": [],
   "source": [
    "from ibm_watson import SpeechToTextV1\n",
    "#Esta linha importa a classe SpeechToTextV1 do módulo ibm_watson. A classe SpeechToTextV1 faz parte do serviço IBM Watson Speech to Text. Ele fornece métodos e funcionalidades para converter linguagem falada em texto escrito. Ao importar essa classe, é possível usar seus métodos para executar conversões de fala em texto usando o serviço Speech to Text do IBM Watson.\n",
    "\n",
    "\n",
    "from ibm_cloud_sdk_core.authenticators import IAMAuthenticator\n",
    "##Esta linha importa a classe IAMAuthenticator do módulo ibm_cloud_sdk_core.authenticators. A classe IAMAuthenticator é usada para autenticar e autorizar solicitações feitas aos serviços IBM Cloud, incluindo serviços IBM Watson. Ele fornece um mecanismo para autenticar solicitações de API com segurança usando o serviço Identity and Access Management (IAM) da IBM. Ao importar esta classe, é possível criar uma instância do IAMAuthenticator e configurá-la com sua chave de API do IAM para autenticar suas solicitações ao usar os serviços do IBM Watson."
   ]
  },
  {
   "cell_type": "code",
   "execution_count": 9,
   "metadata": {},
   "outputs": [],
   "source": [
    "apiUrl = \"https://api.us-south.speech-to-text.watson.cloud.ibm.com/instances/11fc084a-87ee-4649-a0a8-50c2597d5e58\"\n",
    "myKey = \"F6KRzxSppSlIdMptlkq6N3uJKsXmPhhiHZ4EQgM3Z7JC\""
   ]
  },
  {
   "cell_type": "code",
   "execution_count": 10,
   "metadata": {},
   "outputs": [],
   "source": [
    "auth = IAMAuthenticator(myKey)\n",
    "#IAMAuthenticator(myKey) cria uma instância da classe IAMAuthenticator, passando a variável myKey como parâmetro. Isso associa a chave API à instância do autenticador. Ao fornecer a chave de API ao autenticador, ela permite que o autenticador inclua as informações de autenticação necessárias ao fazer solicitações ao serviço IBM Watson Speech to Text. Isso ajuda a garantir que apenas usuários autorizados com chaves de API válidas possam acessar o serviço e realizar ações como conversões de fala em texto.\n",
    "\n",
    "Speech2Text = SpeechToTextV1(authenticator = auth)\n",
    "#Esta linha cria uma instância da classe SpeechToTextV1 e a atribui à variável Speech2Text. A classe SpeechToTextV1 faz parte do serviço IBM Watson Speech to Text e fornece métodos e funcionalidades para converter linguagem falada em texto escrito. O parâmetro authenticator=auth especifica que a instância Speech2Text deve utilizar o objeto autenticador (criado anteriormente) para autenticação. Ao passar o objeto autenticador para o construtor SpeechToTextV1, a instância é configurada para autenticar solicitações feitas para o serviço IBM Watson Speech to Text usando a chave de API fornecida.\n",
    "\n",
    "Speech2Text.set_service_url(apiUrl)\n",
    "#Esta linha define a URL de serviço para a instância Speech2Text. O método set_service_url é fornecido pela classe SpeechToTextV1 e é usado para especificar a URL do terminal do serviço IBM Watson Speech to Text com o qual a instância se comunicará. apiUrl é uma variável (presumivelmente definida anteriormente no código) que representa a URL do serviço IBM Watson Speech to Text. Ao passar essa URL para o método set_service_url, a instância Speech2Text é configurada para enviar solicitações ao endpoint especificado ao realizar conversões de fala em texto."
   ]
  },
  {
   "cell_type": "code",
   "execution_count": 11,
   "metadata": {},
   "outputs": [],
   "source": [
    "with open(\"test_audio.wav\", mode=\"rb\") as wav: \n",
    "\n",
    "    response = Speech2Text.recognize(audio=wav, content_type=\"audio/wav\")\n",
    "\n",
    "    recognized_text = response.result['results'][0]['alternatives'][0]['transcript']\n"
   ]
  },
  {
   "cell_type": "code",
   "execution_count": 12,
   "metadata": {},
   "outputs": [
    {
     "data": {
      "text/plain": [
       "'in this video we are learning that how to convert speech to text using IBM Watson '"
      ]
     },
     "execution_count": 12,
     "metadata": {},
     "output_type": "execute_result"
    }
   ],
   "source": [
    "recognized_text\n",
    "#Imprimindo a versão em texto do discurso"
   ]
  }
 ],
 "metadata": {
  "kernelspec": {
   "display_name": "Python 3",
   "language": "python",
   "name": "python3"
  },
  "language_info": {
   "codemirror_mode": {
    "name": "ipython",
    "version": 3
   },
   "file_extension": ".py",
   "mimetype": "text/x-python",
   "name": "python",
   "nbconvert_exporter": "python",
   "pygments_lexer": "ipython3",
   "version": "3.12.2"
  }
 },
 "nbformat": 4,
 "nbformat_minor": 2
}
